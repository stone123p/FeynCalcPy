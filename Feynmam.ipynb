{
 "cells": [
  {
   "cell_type": "code",
   "execution_count": 1,
   "id": "8880f45c-fd91-4b1f-b9b3-2bb745ed49e8",
   "metadata": {},
   "outputs": [],
   "source": [
    "from sympy import Symbol, S,symbols,Mul,Function,conjugate,Add,diag,I,integrate,cos,sin,diag,pi,nsimplify,factor\n",
    "from sympy.tensor.tensor import TensorHead,Tensor,TensorIndexType, tensor_indices, tensor_heads,TensorIndex,TensorSymmetry\n",
    "from sympy.core.expr import Expr\n",
    "\n",
    "Lorentz = TensorIndexType('Lorentz', dummy_name='L', dim=4)\n",
    "Lg = Lorentz.metric"
   ]
  },
  {
   "cell_type": "code",
   "execution_count": 727,
   "id": "b79d2417-ed35-497e-805e-945fcdccd6ba",
   "metadata": {},
   "outputs": [],
   "source": [
    "def g(id1,id2):\n",
    "    m0, m1 = tensor_indices('m0,m1', Lorentz)\n",
    "    p,q=1,1;\n",
    "    \n",
    "    if not isinstance(id1,TensorIndex):\n",
    "        p = tensor_heads(id1.name, [Lorentz])(-m0)\n",
    "        id1=m0\n",
    "        \n",
    "    if not isinstance(id2,TensorIndex):\n",
    "        q = tensor_heads(id2.name, [Lorentz])(-m1)\n",
    "        id2=m1\n",
    "        \n",
    "    return (Lg(id1,id2)*p*q)\n",
    "    \n",
    "class Spinor(Symbol):\n",
    "    def __new__(cls,momentum,mass,polarization,**kwargs):\n",
    "        obj = super().__new__(cls,momentum.name,**kwargs,commutative=False)\n",
    "        obj.momentum = momentum\n",
    "        obj.mass = mass\n",
    "        obj.polarization=polarization\n",
    "        return obj\n",
    "    def __init__(self,momentum,mass,polarization):\n",
    "        self.name =f\"u({momentum})\" \n",
    "\n",
    "\n",
    "\n",
    "class GammaSlash(Symbol):  \n",
    "    def __new__(cls,name,*args,**kwargs):\n",
    "        obj_name=name,\n",
    "        obj = super().__new__(cls,name.name,*args,**kwargs,commutative=False)\n",
    "        obj.index = name\n",
    "        return obj\n",
    "    def __init__(self,name):\n",
    "        self.name =f\" gs({self.index.name})\"\n",
    "        self.is_gamma5=False\n",
    "        self.is_gs=True\n",
    "         \n",
    "class GammaMatrix(Symbol):\n",
    "    def __new__(cls,name,*args,**kwargs):\n",
    "        obj_name=f\"gamma^{name.name}\" if name.is_up else f\"gamma_{name.name}\"\n",
    "        obj = super().__new__(cls,obj_name,*args,**kwargs,commutative=False)\n",
    "        obj.index = name\n",
    "        return obj\n",
    "        \n",
    "    def __init__(self,name):\n",
    "        self.is_gamma5=False\n",
    "        self.is_gs=False\n",
    "            \n",
    "class GammaMatrix5(Symbol):\n",
    "    def __new__(cls,*args,**kwargs):\n",
    "        obj = super().__new__(cls,name='gamma^5',*args,**kwargs,commutative=False)\n",
    "        return obj\n",
    "    \n",
    "    def __init__(self):\n",
    "        self.name =f\"gamma^5\"\n",
    "        self.is_gamma5=True\n",
    "        self.is_gs=False\n",
    "        \n",
    "    def __pow__(self, power):\n",
    "        if power == 2:\n",
    "            return S.One\n",
    "        elif power == 3:\n",
    "            return self  # G5^3 = -G5\n",
    "        else:\n",
    "            raise ValueError(f\"Power {power} not implemented for {self.name}\")\n",
    "    def __repr__(self):\n",
    "        return self.name\n",
    "\n",
    "    def __mul__(self, other):\n",
    "        \n",
    "        if other.__class__.__name__=='GammaMatrix5':\n",
    "            return S.One\n",
    "        return super().__mul__(other)\n",
    "\n",
    "class GC:         \n",
    "    def __init__(self,left_spinor,matrix,right_spinor):\n",
    "        self.left_spinor = left_spinor\n",
    "        self.matrix = matrix\n",
    "        self.right_spinor = right_spinor\n",
    "        \n",
    "    def __repr__(self):\n",
    "        return f\"GC({self.left_spinor}{self.matrix}{self.right_spinor})\"\n",
    "    \n",
    "    def __mul__(self, other):\n",
    "        L_contract=self.right_spinor.momentum==other.left_spinor.momentum;\n",
    "        R_contract=self.left_spinor.momentum==other.right_spinor.momentum;\n",
    "        if L_contract and (not R_contract):\n",
    "            p1=(GammaSlash(self.right_spinor.momentum)+self.right_spinor.mass)*(1+self.right_spinor.polarization*GammaMatrix5())\n",
    "            return GC(self.left_spinor,self.matrix*p1*other.matrix,other.right_spinor)\n",
    "        if (not L_contract) and  R_contract:\n",
    "            p1=(GammaSlash(self.left_spinor.momentum)+self.left_spinor.mass)\n",
    "            return GC(other.left_spinor,other.matrix*p1*self.matrix,self.right_spinor)*(1+self.right_spinor.polarization*GammaMatrix5())\n",
    "        if L_contract and R_contract:\n",
    "            p1=(GammaSlash(other.right_spinor.momentum)+S.One*other.right_spinor.mass)*(1+other.right_spinor.polarization*GammaMatrix5())\n",
    "            p2=(GammaSlash(self.right_spinor.momentum)+S.One*self.right_spinor.mass)*(1+self.right_spinor.polarization*GammaMatrix5())\n",
    "            return trace(other.matrix*p1*self.matrix*p2)\n",
    "            \n",
    "        return Mul(self, other, evaluate=False)\n",
    "    def conj(self):\n",
    "        m=(self.matrix) if self.matrix.is_symbol else Mul(* reversed(list(self.matrix.args)))\n",
    "        return GC(self.right_spinor,m.subs(GammaMatrix5(),-GammaMatrix5()),self.left_spinor)\n",
    "    \n",
    "def reorder_with_eps(expr):    \n",
    "    terms=expr.args\n",
    "    reordered_terms = []\n",
    "    if len(terms)==0 and not isinstance(expr,Symbol):\n",
    "        return expr\n",
    "\n",
    "    for index, term in enumerate(terms):\n",
    "        if term.__class__.__name__=='LeviCivitaT':\n",
    "            reordered_terms.insert(0, term)\n",
    "        else:\n",
    "            reordered_terms.append(term)\n",
    "    # Combine terms back into an expression\n",
    "    reordered_expr=1\n",
    "    for x in reordered_terms:\n",
    "        reordered_expr*=x\n",
    "    return reordered_expr\n",
    "    \n",
    "def reorder_with_sign(expr):   \n",
    "    \n",
    "    cof=Mul(*list(filter(lambda x:not hasattr(x,'is_gs'),  expr.args)))\n",
    "    terms=list(filter(lambda x:hasattr(x,'is_gs'),  expr.args))\n",
    "    if len(terms)==0 and not isinstance(expr,Symbol):\n",
    "        return expr\n",
    "    reordered_terms = []\n",
    "    # Iterate through terms to move `target` to the front\n",
    "    n=0;\n",
    "    for index, term in enumerate(terms):\n",
    "        if term.__class__.__name__=='GammaMatrix5':\n",
    "            # If target is found, prepend it and adjust the sign\n",
    "            reordered_terms.insert(0, term)\n",
    "            \n",
    "            cof *= (-1)**(index-n)  # Flip the sign for each swap\n",
    "            n+=1;\n",
    "        else:\n",
    "            reordered_terms.append(term)\n",
    "    \n",
    "    # Combine terms back into an expression\n",
    "    reordered_expr=1\n",
    "    for x in reordered_terms:\n",
    "        reordered_expr *=x\n",
    "    return cof * reordered_expr\n",
    "    \n",
    "def GMSimplify(GMs):\n",
    "    expandsion=(GMs*S.One).expand()\n",
    "    if not isinstance(expandsion,Mul):\n",
    "        Z=Add(*[reorder_with_sign(gms_arg) for gms_arg in list(expandsion.args)])\n",
    "        return Z\n",
    "    else :\n",
    "        return reorder_with_sign(expandsion)\n",
    "\n",
    "def Trace_Sigle(expandsion):\n",
    "    n= sum([1 for x in list(expandsion.args) if hasattr(x,'index') ])\n",
    "    m= sum([1 for x in list(expandsion.args) if hasattr(x,'is_gamma5') and x.is_gamma5])\n",
    "    coeff=(Mul(*filter(lambda x: not hasattr(x,'index')  and not (hasattr(x,'is_gamma5') and x.is_gamma5), expandsion.args) ))\n",
    "    if(m==0):\n",
    "        if n==2:\n",
    "            indies=list(map(lambda x:x.index,filter(lambda x:hasattr(x,'index'),list(expandsion.args))))\n",
    "            \n",
    "            return 4*coeff*g(indies[0],indies[1])\n",
    "        if n==4:\n",
    "            indies=list(map(lambda x:x.index,filter(lambda x:hasattr(x,'index'),list(expandsion.args))))\n",
    "            return 4*coeff*(g(indies[0],indies[1])*g(indies[2],indies[3])+g(indies[0],indies[3])*g(indies[1],indies[2])-g(indies[0],indies[2])*g(indies[1],indies[3]))\n",
    "    else:\n",
    "        if n==4:\n",
    "            indies=list(map(lambda x:x.index,filter(lambda x:hasattr(x,'index'),list(expandsion.args))))\n",
    "            #print(LeviCivitaT(1,self_indices=(indies[0],indies[1],indies[2],indies[3])))\n",
    "            m0,m1,m2, m3= tensor_indices('m0,m1,m2,m3', Lorentz)\n",
    "            p0,p1,p2,p3=1,1,1,1;\n",
    "            id0,id1,id2,id3=indies\n",
    "            \n",
    "            if not isinstance(id0,TensorIndex):\n",
    "               \n",
    "                p0 = tensor_heads(id0.name, [Lorentz])(-m0)\n",
    "                id0=m0\n",
    "            if not isinstance(id1,TensorIndex):\n",
    "                p1 = tensor_heads(id1.name, [Lorentz])(-m1)\n",
    "                id1=m1\n",
    "            if not isinstance(id2,TensorIndex):\n",
    "                p2 = tensor_heads(id2.name, [Lorentz])(-m2)\n",
    "                id2=m2\n",
    "            if not isinstance(id3,TensorIndex):\n",
    "                p3 = tensor_heads(id3.name, [Lorentz])(-m3)\n",
    "                id3=m3\n",
    "            \n",
    "            return 4j*coeff*LeviCivitaT(1,self_indices=(id0,id1,id2,id3))*p0*p1*p2*p3\n",
    "        \n",
    "        if n==6:\n",
    "            indies=list(map(lambda x:x.index,filter(lambda x:hasattr(x,'index'),list(expandsion.args))))\n",
    "            m0,m1,m2,m3,m4,m5= tensor_indices('m0,m1,m2,m3,m4,m5', Lorentz)\n",
    "            p0,p1,p2,p3,p4,p5=1,1,1,1,1,1\n",
    "            id0,id1,id2,id3,id4,id5=indies\n",
    "            \n",
    "            if not isinstance(id0,TensorIndex):\n",
    "                p0 = tensor_heads(id0.name, [Lorentz])(-m0)\n",
    "                id1=m0\n",
    "            if not isinstance(id1,TensorIndex):\n",
    "                p1 = tensor_heads(id1.name, [Lorentz])(-m1)\n",
    "                id1=m1\n",
    "            if not isinstance(id2,TensorIndex):\n",
    "                p2 = tensor_heads(id2.name, [Lorentz])(-m2)\n",
    "                id2=m2\n",
    "            if not isinstance(id3,TensorIndex):\n",
    "                p3 = tensor_heads(id3.name, [Lorentz])(-m3)\n",
    "                id3=m3\n",
    "            if not isinstance(id4,TensorIndex):\n",
    "                p4 = tensor_heads(id4.name, [Lorentz])(-m4)\n",
    "                id4=m4\n",
    "            if not isinstance(id5,TensorIndex):\n",
    "                p5 = tensor_heads(id5.name, [Lorentz])(-m5)\n",
    "                id5=m5\n",
    "                \n",
    "            S=g(id0,id1)*LeviCivitaT(1,self_indices=(id2,id3,id4,id5))\n",
    "            S+=-g(id0,id2)*LeviCivitaT(1,self_indices=(id1,id3,id4,id5))\n",
    "            S+=g(id1,id2)*LeviCivitaT(1,self_indices=(id0,id3,id4,id5))\n",
    "            \n",
    "            S+=g(id3,id4)*LeviCivitaT(1,self_indices=(id0,id1,id2,id5))\n",
    "            S+=-g(id3,id5)*LeviCivitaT(1,self_indices=(id0,id1,id2,id4))\n",
    "            S+=g(id4,id5)*LeviCivitaT(1,self_indices=(id0,id1,id2,id3))\n",
    "            return -4j*coeff*S*p0*p1*p2*p3*p4*p5\n",
    "    return 0\n",
    "\n",
    "def trace(GMs):\n",
    "    expandsion=GMSimplify(GMs)\n",
    "    if not isinstance(expandsion,Mul):\n",
    "       return Add(*list(map(lambda x:Trace_Sigle(x),list(expandsion.args))))\n",
    "    else :\n",
    "        return Trace_Sigle(expandsion)\n",
    "\n",
    "def delta(id1,id2):\n",
    "    m0 = tensor_indices('m0', Lorentz)\n",
    "    return (Lg(id1,m0)*Lg(id2,-m0)).contract_metric(Lg)\n",
    "    \n",
    "class LeviCivitaT(Tensor):\n",
    "    def __init__(self,name,self_indices,**is_canon_bp):\n",
    "        self.name=1;\n",
    "    def __new__(cls,name,self_indices,**is_canon_bp):\n",
    "        instance = super().__new__(cls,tensor_head=TensorHead('epsilon', [Lorentz]*4,TensorSymmetry.fully_symmetric(-4)),indices=self_indices)\n",
    "        return instance\n",
    "    \n",
    "    def __mul__(self, other):\n",
    "        \n",
    "        if other.__class__.__name__=='LeviCivitaT':\n",
    "            \n",
    "            self_indices=list(map(lambda x:-x,self.get_indices()))\n",
    "            other_indices=other.get_indices()\n",
    "            combined_indices =  self_indices+ other_indices\n",
    "            self_free_indices = [idx for idx in self_indices if combined_indices.count(idx) == 1]\n",
    "            other_free_indices = [idx for idx in other_indices if combined_indices.count(idx) == 1]\n",
    "            self_dummy_indices = [idx for idx in self_indices if combined_indices.count(idx) == 2]\n",
    "            other_dummy_indices = [idx for idx in other_indices if combined_indices.count(idx) == 2]\n",
    "\n",
    "            if(len(self_free_indices)==2 and len(other_free_indices)==2):\n",
    "                \n",
    "                osfids=list(map(lambda x:-x,self_free_indices))\n",
    "                f1=(-1)**(self_indices.index(self_dummy_indices[0])-0)*(-1)**(self_indices.index(self_dummy_indices[1])-1)\n",
    "                f2=(-1)**(other_indices.index(other_dummy_indices[0])-0)*(-1)**(other_indices.index(other_dummy_indices[1])-1)\n",
    "                dd1=delta(osfids[0],other_free_indices[0])*delta(osfids[1],other_free_indices[1])\n",
    "                dd2=delta(osfids[0],other_free_indices[1])*delta(osfids[1],other_free_indices[0])\n",
    "                return f1*f2*(-2)*(dd1-dd2)\n",
    "            \n",
    "            if(len(self_free_indices)==1 and len(other_free_indices)==1):\n",
    "                osfids=list(map(lambda x:-x,self_free_indices))\n",
    "                f1=(-1)**(self_indices.index(self_dummy_indices[0])-0)*(-1)**(self_indices.index(self_dummy_indices[1])-1)\n",
    "                f2=(-1)**(other_indices.index(other_dummy_indices[0])-0)*(-1)**(other_indices.index(other_dummy_indices[1])-1)\n",
    "                return f1*f2*(-6)*delta(osfids[0],other_free_indices[0])\n",
    "        return super().__mul__(other)#.canon_bp()\n",
    "       \n",
    "def Evl(epx):\n",
    "    if epx==0:\n",
    "        return 0\n",
    "    return Add(*[reorder_with_eps(x) for x in epx.expand().args]).canon_bp().contract_metric(Lg)    \n",
    "\n",
    "\n"
   ]
  },
  {
   "cell_type": "code",
   "execution_count": 729,
   "id": "10281968-bf45-4f5c-b01e-a655ab32d7c8",
   "metadata": {},
   "outputs": [],
   "source": [
    "def replaceTensor(term,matrix_reps):\n",
    "    tensors=list(filter(lambda x:isinstance(x,Tensor),term.args))\n",
    "    my_dict={}\n",
    "    my_dict[Lorentz] = diag(1, -1, -1, -1)\n",
    "    for x in tensors:\n",
    "        my_dict.setdefault(x,matrix_reps[x.head.name])\n",
    "    return term.replace_with_arrays(my_dict)\n",
    "\n",
    "    \n",
    "def tensor_subs(exper,tensor_name_to_replace,rul):\n",
    "    for x in exper.args:\n",
    "        if isinstance(x,Tensor) and x.head.name==tensor_name_to_replace:\n",
    "            exper=exper.subs(x,rul( x.indices[0]))\n",
    "    return exper\n",
    "\n",
    "def tensorInnerproductSubs(momentum_conservations_signs,exper,in1_a,in1_b):\n",
    "    momentum_conservations=lambda i: Add(*[ sign*tensor_heads(key, [Lorentz])(i) for key, sign in momentum_conservations_signs.items()])\n",
    "    i0 = tensor_indices('i0', Lorentz)\n",
    "    sing=1\n",
    "    term=momentum_conservations(i0).subs(tensor_heads(in1_a,[Lorentz])(i0),0).subs(tensor_heads(in1_b,[Lorentz])(i0),0)*momentum_conservations(-i0).subs(tensor_heads(in1_a,[Lorentz])(-i0),0).subs(tensor_heads(in1_b,[Lorentz])(-i0),0)\n",
    "    term+=-tensor_heads(in1_a,[Lorentz])(i0)*tensor_heads(in1_a,[Lorentz])(-i0)/2\n",
    "    term+=-tensor_heads(in1_b,[Lorentz])(i0)*tensor_heads(in1_b,[Lorentz])(-i0)/2\n",
    "    \n",
    "    sing*=momentum_conservations_signs[in1_a]\n",
    "    sing*=momentum_conservations_signs[in1_b]\n",
    "    \n",
    "    for x in exper.args:\n",
    "        if isinstance(x,Tensor) and (x.head.name==in1_a or x.head.name==in1_b):\n",
    "            exper=exper.subs(x,1)  \n",
    "            \n",
    "    return exper*sing*term"
   ]
  },
  {
   "cell_type": "code",
   "execution_count": 731,
   "id": "23e19b49-834a-4f13-b0a6-da6f006d79e6",
   "metadata": {},
   "outputs": [],
   "source": [
    "mu,nu,alpha,beta,rho,sigma = tensor_indices('mu,nu,alpha,beta,rho,sigma', Lorentz)\n",
    "\n",
    "n1,n2,n3,n=symbols(\"n1,n2,n3,n\")\n",
    "\n",
    "E_nub,p_nub,theta_nub,phi_nub=symbols(r\"E_{\\bar\\nu} p_{\\bar\\nu} \\theta_{\\bar\\nu} \\phi_{\\bar\\nu}\")\n",
    "E_nu,p_nu,theta_nu,phi_nu=symbols(r\"E_\\nu p_\\nu \\theta_\\nu \\phi_\\nu\")\n",
    "E_e,p_e,m_e,theta_e,phi_e=symbols(r\"E_e p_e m_e \\theta_e \\phi_e\")\n",
    "E_mu,p_mu,m_mu=symbols(r\"E_\\mu p_\\mu m_mu\")\n",
    "\n",
    "MatrixReps={\n",
    "     r'p_e':[E_e,p_e*cos(phi_e)*sin(theta_e),p_e*sin(phi_e)*sin(theta_e),p_e*cos(theta_e)]\n",
    "    ,r'n':[0,n1,n2,n3]\n",
    "    ,r'p_{\\bar\\nu}':[E_nub,p_nub*cos(phi_nub)*sin(theta_nub),p_nub*sin(phi_nub)*sin(theta_nub),p_nub*cos(theta_nub)]\n",
    "    ,r'p_\\mu':[m_mu,0,0,0]\n",
    "    ,r'p_\\nu':[E_nu,p_nu*cos(phi_nu)*sin(theta_nu),p_nu*sin(phi_nu)*sin(theta_nu),p_nu*cos(theta_nu)]\n",
    "}\n",
    "\n",
    "G5=GammaMatrix5()\n",
    "PL=(S.One-G5)/2\n",
    "PR=(S.One+G5)/2\n",
    "\n",
    "u1=Spinor(p_e,m_e,0)\n",
    "u2=Spinor(p_nu,0,0)\n",
    "u3=Spinor(p_nub,0,0)\n",
    "u4=Spinor(p_mu,m_mu,GammaSlash(n))"
   ]
  },
  {
   "cell_type": "code",
   "execution_count": 733,
   "id": "0860e788-5a0a-4770-ac62-9c90538d00ec",
   "metadata": {},
   "outputs": [],
   "source": [
    "momentum_conservations_signs={r'p_\\mu':+1,r'p_\\nu':-1,r'p_{\\bar\\nu}':-1,r'p_e':-1}"
   ]
  },
  {
   "cell_type": "code",
   "execution_count": null,
   "id": "95594414-75d7-4972-b8a3-2f04183d5da6",
   "metadata": {},
   "outputs": [],
   "source": []
  },
  {
   "cell_type": "code",
   "execution_count": 736,
   "id": "9ceaf21f-ea44-4709-935c-4416887563cd",
   "metadata": {},
   "outputs": [],
   "source": [
    "T1=(1j/2)*(GammaMatrix(alpha)*GammaMatrix(beta)-GammaMatrix(beta)*GammaMatrix(alpha))\n",
    "conj_T1=(1j/2)*(GammaMatrix(-alpha)*GammaMatrix(-beta)-GammaMatrix(-beta)*GammaMatrix(-alpha))\n",
    "T2=(1j/2)*(GammaMatrix(rho)*GammaMatrix(sigma)-GammaMatrix(sigma)*GammaMatrix(rho))\n",
    "conj_T2=(1j/2)*(GammaMatrix(-rho)*GammaMatrix(-sigma)-GammaMatrix(-sigma)*GammaMatrix(-rho))\n",
    "\n",
    "g1=GammaMatrix(mu)\n",
    "g2=GammaMatrix(nu)\n",
    "conj_g1=GammaMatrix(-mu)\n",
    "conj_g2=GammaMatrix(-nu)\n"
   ]
  },
  {
   "cell_type": "code",
   "execution_count": 738,
   "id": "1e8affe3-fb05-44ab-9c99-b18b40654785",
   "metadata": {},
   "outputs": [
    {
     "data": {
      "text/plain": [
       "0"
      ]
     },
     "execution_count": 738,
     "metadata": {},
     "output_type": "execute_result"
    }
   ],
   "source": [
    "Mc=[GC(u1,PR*S.One,u2),GC(u3,S.One*PL,u4)]\n",
    "M=[GC(u1,PR*conj_g1,u2),GC(u3,g1*PL,u4)]\n",
    "\n",
    "Z1=Mc[0].conj()*M[0]\n",
    "Z2=Mc[1].conj()*M[1]\n",
    "Z3_TLR_VRL=Evl(Z1*Z2)\n",
    "\n",
    "Z3_TLR_VRL"
   ]
  },
  {
   "cell_type": "code",
   "execution_count": 740,
   "id": "5e87acee-cf7f-4523-8f11-55fe0a10ae3e",
   "metadata": {},
   "outputs": [
    {
     "data": {
      "text/latex": [
       "$\\displaystyle -16.0m_{e}n{}^{L_{0}}p_{\\mu}{}^{L_{1}}p_{\\nu}{}_{L_{1}}p_{\\bar\\nu}{}_{L_{0}} + 16.0m_{e}n{}^{L_{0}}p_{\\mu}{}^{L_{1}}p_{\\nu}{}_{L_{0}}p_{\\bar\\nu}{}_{L_{1}} + 24.0m_{e}m_{\\mu}p_{\\nu}{}^{L_{0}}p_{\\bar\\nu}{}_{L_{0}} + 8.0im_{e}\\epsilon{}^{L_{0}L_{1}L_{2}L_{3}}n{}_{L_{0}}p_{\\mu}{}_{L_{1}}p_{\\nu}{}_{L_{2}}p_{\\bar\\nu}{}_{L_{3}}$"
      ],
      "text/plain": [
       "24.0*m_e*m_mu*p_\\nu(L_0)*p_{\\bar\\nu}(-L_0) - 16.0*m_e*n(L_0)*p_\\mu(L_1)*p_\\nu(-L_1)*p_{\\bar\\nu}(-L_0) + 16.0*m_e*n(L_0)*p_\\mu(L_1)*p_\\nu(-L_0)*p_{\\bar\\nu}(-L_1) + 8.0*I*m_e*epsilon(L_0, L_1, L_2, L_3)*n(-L_0)*p_\\mu(-L_1)*p_\\nu(-L_2)*p_{\\bar\\nu}(-L_3)"
      ]
     },
     "execution_count": 740,
     "metadata": {},
     "output_type": "execute_result"
    }
   ],
   "source": [
    "Z3_TRL_VLR"
   ]
  },
  {
   "cell_type": "code",
   "execution_count": 670,
   "id": "08ce071e-ca35-4a4d-9578-e03fe7e0e765",
   "metadata": {},
   "outputs": [
    {
     "data": {
      "text/plain": [
       "(16.0*p_\\mu(L_0)*p_\\nu(-L_0)*p_e(L_1)*p_{\\bar\\nu}(-L_1) + 16.0*m_mu*n(L_0)*p_\\nu(-L_0)*p_e(L_1)*p_{\\bar\\nu}(-L_1),)"
      ]
     },
     "execution_count": 670,
     "metadata": {},
     "output_type": "execute_result"
    }
   ],
   "source": [
    "Z3_SRL_TRL,\n",
    "Z3_SLR_TLR,\n",
    "Z3_VRL_SLR,\n",
    "Z3_TLR_VRL,\n",
    "\n",
    "\n",
    "Z3_SLR_SLR,\n",
    "Z3_SRL_SRL,\n",
    "Z3_SLL_SLL,\n",
    "Z3_SRR_SRR,\n",
    "\n",
    "Z3_TRL_TRL,\n",
    "Z3_TLR_TLR,\n",
    "\n",
    "Z3_VLR_VLR,\n",
    "Z3_VRL_VRL,\n",
    "Z3_VRR_VRR,\n",
    "Z3_VLL_VLL,"
   ]
  },
  {
   "cell_type": "code",
   "execution_count": 672,
   "id": "6c858d5f-4ae1-40ee-a8c6-ffe119e86157",
   "metadata": {},
   "outputs": [
    {
     "data": {
      "text/latex": [
       "$\\displaystyle 16.0m_{\\mu}n{}^{L_{0}}p_{\\nu}{}_{L_{0}}p_{e}{}^{L_{1}}p_{\\bar\\nu}{}_{L_{1}} + 16.0p_{\\mu}{}^{L_{0}}p_{\\nu}{}_{L_{0}}p_{e}{}^{L_{1}}p_{\\bar\\nu}{}_{L_{1}}$"
      ],
      "text/plain": [
       "16.0*p_\\mu(L_0)*p_\\nu(-L_0)*p_e(L_1)*p_{\\bar\\nu}(-L_1) + 16.0*m_mu*n(L_0)*p_\\nu(-L_0)*p_e(L_1)*p_{\\bar\\nu}(-L_1)"
      ]
     },
     "execution_count": 672,
     "metadata": {},
     "output_type": "execute_result"
    }
   ],
   "source": [
    "Z3_VLL_VLL"
   ]
  },
  {
   "cell_type": "code",
   "execution_count": null,
   "id": "f9e0d82e-3805-4d7d-9479-a388686c68a9",
   "metadata": {},
   "outputs": [],
   "source": []
  },
  {
   "cell_type": "code",
   "execution_count": 675,
   "id": "fb78a440-cc84-4213-998a-f3467456685c",
   "metadata": {},
   "outputs": [
    {
     "ename": "IndexError",
     "evalue": "tuple index out of range",
     "output_type": "error",
     "traceback": [
      "\u001b[0;31m---------------------------------------------------------------------------\u001b[0m",
      "\u001b[0;31mIndexError\u001b[0m                                Traceback (most recent call last)",
      "\u001b[0;32m/var/folders/kb/qtrh4f7d44n_f45lww9yhlfh0000gq/T/ipykernel_86198/2241303027.py\u001b[0m in \u001b[0;36m<module>\u001b[0;34m\u001b[0m\n\u001b[1;32m      1\u001b[0m \u001b[0;31m# in order to reduce the number of variable in angles as less as possible, We replace expansion in terms of p_mu at rest frame which has vec{p}_mu=0\u001b[0m\u001b[0;34m\u001b[0m\u001b[0;34m\u001b[0m\u001b[0m\n\u001b[0;32m----> 2\u001b[0;31m \u001b[0mY2\u001b[0m\u001b[0;34m=\u001b[0m\u001b[0mtensorInnerproductSubs\u001b[0m\u001b[0;34m(\u001b[0m\u001b[0mmomentum_conservations_signs\u001b[0m\u001b[0;34m,\u001b[0m \u001b[0mY1\u001b[0m\u001b[0;34m.\u001b[0m\u001b[0margs\u001b[0m\u001b[0;34m[\u001b[0m\u001b[0;36m3\u001b[0m\u001b[0;34m]\u001b[0m\u001b[0;34m,\u001b[0m \u001b[0;34mr'p_\\nu'\u001b[0m\u001b[0;34m,\u001b[0m \u001b[0;34mr'p_{\\bar\\nu}'\u001b[0m\u001b[0;34m)\u001b[0m\u001b[0;34m\u001b[0m\u001b[0;34m\u001b[0m\u001b[0m\n\u001b[0m",
      "\u001b[0;31mIndexError\u001b[0m: tuple index out of range"
     ]
    }
   ],
   "source": [
    "# in order to reduce the number of variable in angles as less as possible, We replace expansion in terms of p_mu at rest frame which has vec{p}_mu=0\n",
    "Y2=tensorInnerproductSubs(momentum_conservations_signs, Y1.args[3], r'p_\\nu', r'p_{\\bar\\nu}')"
   ]
  },
  {
   "cell_type": "code",
   "execution_count": 570,
   "id": "9caba9b6-11bc-4578-a068-a55a5813dd07",
   "metadata": {},
   "outputs": [
    {
     "ename": "IndexError",
     "evalue": "tuple index out of range",
     "output_type": "error",
     "traceback": [
      "\u001b[0;31m---------------------------------------------------------------------------\u001b[0m",
      "\u001b[0;31mIndexError\u001b[0m                                Traceback (most recent call last)",
      "\u001b[0;32m/var/folders/kb/qtrh4f7d44n_f45lww9yhlfh0000gq/T/ipykernel_86198/2663601196.py\u001b[0m in \u001b[0;36m<module>\u001b[0;34m\u001b[0m\n\u001b[0;32m----> 1\u001b[0;31m \u001b[0mY2\u001b[0m\u001b[0;34m=\u001b[0m\u001b[0mY1\u001b[0m\u001b[0;34m.\u001b[0m\u001b[0margs\u001b[0m\u001b[0;34m[\u001b[0m\u001b[0;36m3\u001b[0m\u001b[0;34m]\u001b[0m\u001b[0;34m\u001b[0m\u001b[0;34m\u001b[0m\u001b[0m\n\u001b[0m",
      "\u001b[0;31mIndexError\u001b[0m: tuple index out of range"
     ]
    }
   ],
   "source": [
    "Y2=Y1.args[3]"
   ]
  },
  {
   "cell_type": "code",
   "execution_count": 39,
   "id": "ff5ca469-9e25-4f11-ad60-e45602f3ab6f",
   "metadata": {},
   "outputs": [],
   "source": [
    "#to substitute the fourvector into matrix form. \n",
    "if  isinstance(Y2.expand(),Mul):\n",
    "    Y3=Add(* [replaceTensor(x,MatrixReps) for x in Y2.expand().args])\n",
    "else:\n",
    "    Y3=replaceTensor(Y2.expand(),MatrixReps)"
   ]
  },
  {
   "cell_type": "code",
   "execution_count": 41,
   "id": "41586791-37e0-4921-96ef-77d7ede1f602",
   "metadata": {},
   "outputs": [
    {
     "data": {
      "text/latex": [
       "$\\displaystyle 4 m_{e} \\left(E_{\\bar\\nu} m_{\\mu} n_{1} p_{\\nu} \\sin{\\left(\\theta_{\\nu} \\right)} \\cos{\\left(\\phi_{\\nu} \\right)} + E_{\\bar\\nu} m_{\\mu} n_{2} p_{\\nu} \\sin{\\left(\\phi_{\\nu} \\right)} \\sin{\\left(\\theta_{\\nu} \\right)} + E_{\\bar\\nu} m_{\\mu} n_{3} p_{\\nu} \\cos{\\left(\\theta_{\\nu} \\right)}\\right)$"
      ],
      "text/plain": [
       "4*m_e*(E_{\\bar\\nu}*m_mu*n1*p_\\nu*sin(\\theta_\\nu)*cos(\\phi_\\nu) + E_{\\bar\\nu}*m_mu*n2*p_\\nu*sin(\\phi_\\nu)*sin(\\theta_\\nu) + E_{\\bar\\nu}*m_mu*n3*p_\\nu*cos(\\theta_\\nu))"
      ]
     },
     "execution_count": 41,
     "metadata": {},
     "output_type": "execute_result"
    }
   ],
   "source": [
    "Y3"
   ]
  },
  {
   "cell_type": "code",
   "execution_count": 42,
   "id": "c97f4802-9d5c-4f96-9382-9b3b056296c6",
   "metadata": {},
   "outputs": [],
   "source": [
    "#intergrate the phase space and substitute the momentum in term of known energy and mass for later intergration \n",
    "Y4=integrate(integrate(Y3,(phi_nu,0,2*pi)),(phi_e,0,2*pi)).subs(p_e,E_e).subs(p_nub,E_nub).subs(p_nu,E_nu).subs(E_nub,m_mu-E_nu-E_e)"
   ]
  },
  {
   "cell_type": "code",
   "execution_count": 44,
   "id": "98eda822-b385-4251-a0e8-69d5344a0c80",
   "metadata": {},
   "outputs": [
    {
     "data": {
      "text/latex": [
       "$\\displaystyle 2 \\pi \\left(4 E_{\\nu} m_{e} m_{\\mu} n_{2} \\left(- E_{\\nu} - E_{e} + m_{\\mu}\\right) \\sin{\\left(\\theta_{\\nu} \\right)} + 4 m_{e} \\left(- E_{\\nu} m_{\\mu} n_{2} \\left(- E_{\\nu} - E_{e} + m_{\\mu}\\right) \\sin{\\left(\\theta_{\\nu} \\right)} + 2 \\pi E_{\\nu} m_{\\mu} n_{3} \\left(- E_{\\nu} - E_{e} + m_{\\mu}\\right) \\cos{\\left(\\theta_{\\nu} \\right)}\\right)\\right)$"
      ],
      "text/plain": [
       "2*pi*(4*E_\\nu*m_e*m_mu*n2*(-E_\\nu - E_e + m_mu)*sin(\\theta_\\nu) + 4*m_e*(-E_\\nu*m_mu*n2*(-E_\\nu - E_e + m_mu)*sin(\\theta_\\nu) + 2*pi*E_\\nu*m_mu*n3*(-E_\\nu - E_e + m_mu)*cos(\\theta_\\nu)))"
      ]
     },
     "execution_count": 44,
     "metadata": {},
     "output_type": "execute_result"
    }
   ],
   "source": [
    "Y4"
   ]
  },
  {
   "cell_type": "code",
   "execution_count": 45,
   "id": "66ba3a48-9346-4b5d-ba3e-c352c98a3310",
   "metadata": {},
   "outputs": [],
   "source": [
    "\"\"\"\n",
    "in case there is the factor of cos(theta_nu), we can use \n",
    "the momentum conservation to instead of the terms of energy and mass\n",
    "\"\"\"\n",
    "Y5=Y4.subs(cos(theta_nu),(m_mu**2-2*m_mu*(E_e+E_nu)+2*E_e*E_nu)/(2*E_e*E_nu))"
   ]
  },
  {
   "cell_type": "code",
   "execution_count": 46,
   "id": "a25e87a8-1ea7-46ac-af5c-6ff9d1806768",
   "metadata": {},
   "outputs": [
    {
     "data": {
      "text/latex": [
       "$\\displaystyle 2 \\pi \\left(4 E_{\\nu} m_{e} m_{\\mu} n_{2} \\left(- E_{\\nu} - E_{e} + m_{\\mu}\\right) \\sin{\\left(\\theta_{\\nu} \\right)} + 4 m_{e} \\left(- E_{\\nu} m_{\\mu} n_{2} \\left(- E_{\\nu} - E_{e} + m_{\\mu}\\right) \\sin{\\left(\\theta_{\\nu} \\right)} + \\frac{\\pi m_{\\mu} n_{3} \\left(- E_{\\nu} - E_{e} + m_{\\mu}\\right) \\left(2 E_{\\nu} E_{e} + m_{\\mu}^{2} - 2 m_{\\mu} \\left(E_{\\nu} + E_{e}\\right)\\right)}{E_{e}}\\right)\\right)$"
      ],
      "text/plain": [
       "2*pi*(4*E_\\nu*m_e*m_mu*n2*(-E_\\nu - E_e + m_mu)*sin(\\theta_\\nu) + 4*m_e*(-E_\\nu*m_mu*n2*(-E_\\nu - E_e + m_mu)*sin(\\theta_\\nu) + pi*m_mu*n3*(-E_\\nu - E_e + m_mu)*(2*E_\\nu*E_e + m_mu**2 - 2*m_mu*(E_\\nu + E_e))/E_e))"
      ]
     },
     "execution_count": 46,
     "metadata": {},
     "output_type": "execute_result"
    }
   ],
   "source": [
    "Y5"
   ]
  },
  {
   "cell_type": "code",
   "execution_count": 51,
   "id": "d893af46-3aa1-484c-b863-d61dbff3e063",
   "metadata": {},
   "outputs": [],
   "source": [
    "Y6=integrate(Y5,(E_nu,m_mu/2-E_e,m_mu/2))"
   ]
  },
  {
   "cell_type": "code",
   "execution_count": 53,
   "id": "51dcd0bc-8040-4944-9dfb-fa52195e23e8",
   "metadata": {},
   "outputs": [
    {
     "data": {
      "text/latex": [
       "$\\displaystyle \\frac{8 \\pi^{2} E_{e}^{2} m_{e} m_{\\mu} n_{3} \\left(E_{e} - m_{\\mu}\\right)}{3}$"
      ],
      "text/plain": [
       "8*pi**2*E_e**2*m_e*m_mu*n3*(E_e - m_mu)/3"
      ]
     },
     "execution_count": 53,
     "metadata": {},
     "output_type": "execute_result"
    }
   ],
   "source": [
    "factor(nsimplify(Y6.simplify()))"
   ]
  },
  {
   "cell_type": "code",
   "execution_count": null,
   "id": "8cbd8ac1-a0fd-4207-ac45-4a48e1d83155",
   "metadata": {},
   "outputs": [],
   "source": []
  },
  {
   "cell_type": "code",
   "execution_count": null,
   "id": "12b4a3ab-8d5a-40f1-b4a6-10a9335a1ee8",
   "metadata": {},
   "outputs": [],
   "source": []
  },
  {
   "cell_type": "code",
   "execution_count": null,
   "id": "6f34e5c9-9466-47c0-aed3-33b46bf28992",
   "metadata": {},
   "outputs": [],
   "source": []
  }
 ],
 "metadata": {
  "kernelspec": {
   "display_name": "Python 3 (ipykernel)",
   "language": "python",
   "name": "python3"
  },
  "language_info": {
   "codemirror_mode": {
    "name": "ipython",
    "version": 3
   },
   "file_extension": ".py",
   "mimetype": "text/x-python",
   "name": "python",
   "nbconvert_exporter": "python",
   "pygments_lexer": "ipython3",
   "version": "3.9.19"
  }
 },
 "nbformat": 4,
 "nbformat_minor": 5
}
